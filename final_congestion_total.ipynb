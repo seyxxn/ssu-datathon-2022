{
 "cells": [
  {
   "cell_type": "code",
   "execution_count": 1,
   "metadata": {},
   "outputs": [],
   "source": [
    "import pandas as pd\n",
    "from matplotlib import font_manager, rc\n",
    "import matplotlib.pyplot as plt\n",
    "from datetime import datetime\n",
    "\n",
    "# 한글 깨짐\n",
    "font_path = 'C:\\WINDOWS\\FONTS\\MALGUN.ttf'\n",
    "font = font_manager.FontProperties(fname = font_path).get_name()\n",
    "rc('font', family = font)"
   ]
  },
  {
   "cell_type": "code",
   "execution_count": 2,
   "metadata": {},
   "outputs": [
    {
     "data": {
      "image/png": "[encoded data removed]",
      "text/plain": [
       "<Figure size 432x288 with 1 Axes>"
      ]
     },
     "metadata": {
      "needs_background": "light"
     },
     "output_type": "display_data"
    }
   ],
   "source": [
    "# 출입일시 csv 파일 불러오기\n",
    "lib_entry_exit = pd.read_csv(\"./데이터_도서관출입.csv\", encoding = \"cp949\")\n",
    "# lib_entry_exit.head()\n",
    "\n",
    "# 출입일시만 가져온 새로운 데이터 프레임 생성\n",
    "# only_entry_exit = lib_entry_exit.loc[:,'출입일시']\n",
    "\n",
    "# 출입일시에서 날짜만 가져온 새로운 데이터 프레임 생성\n",
    "only_entry_exit = lib_entry_exit.loc[:,'출입일시'].str[0:10]\n",
    "\n",
    "# weekday()에서 사용할 숫자별 요일 딕셔너리 생성\n",
    "# dateDict = {0: '월', 1 : '화', 2 : '수', 3 : '목', 4 : '금' , 5 : '토', 6 : '일'}\n",
    "\n",
    "\n",
    "# 각 요일에 해당하는 출입일시만 추출\n",
    "lib_mon = []\n",
    "lib_tue = []\n",
    "lib_wed = []\n",
    "lib_thu = []\n",
    "lib_fri = []\n",
    "lib_sat = []\n",
    "lib_sun = []\n",
    "\n",
    "for i in only_entry_exit:\n",
    "    datetime_d = datetime.strptime(i, '%Y/%m/%d')\n",
    "    if datetime_d.weekday() == 0:\n",
    "        lib_mon.append(i)\n",
    "    elif datetime_d.weekday() == 1:\n",
    "        lib_tue.append(i)\n",
    "    elif datetime_d.weekday() == 2:\n",
    "        lib_wed.append(i)\n",
    "    elif datetime_d.weekday() == 3:\n",
    "        lib_thu.append(i)\n",
    "    elif datetime_d.weekday() == 4:\n",
    "        lib_fri.append(i)\n",
    "    elif datetime_d.weekday() == 5:\n",
    "        lib_sat.append(i)\n",
    "    elif datetime_d.weekday() == 6:\n",
    "        lib_sun.append(i)\n",
    "\n",
    "\n",
    "# 요일별 출입횟수를 추출한 DataFrame\n",
    "day_of_week = ['월','화','수','목','금','토','일']\n",
    "week_entry_exit = pd.DataFrame(index=day_of_week,columns=['출입횟수'])\n",
    "\n",
    "week_entry_exit['출입횟수'][0] = len(lib_mon)\n",
    "week_entry_exit['출입횟수'][1] = len(lib_tue)\n",
    "week_entry_exit['출입횟수'][2] = len(lib_wed)\n",
    "week_entry_exit['출입횟수'][3] = len(lib_thu)\n",
    "week_entry_exit['출입횟수'][4] = len(lib_fri)\n",
    "week_entry_exit['출입횟수'][5] = len(lib_sat)\n",
    "week_entry_exit['출입횟수'][6] = len(lib_sun)\n",
    "\n",
    "# print(week_entry_exit)\n",
    "\n",
    "# 시각화 - 막대그래프\n",
    "congestion_bar = week_entry_exit.plot.bar(width = 0.8, title = '요일별 도서관 혼잡도')\n",
    "plt.show()"
   ]
  },
  {
   "cell_type": "code",
   "execution_count": 8,
   "metadata": {},
   "outputs": [
    {
     "data": {
      "text/html": [
       "<div>\n",
       "<style scoped>\n",
       "    .dataframe tbody tr th:only-of-type {\n",
       "        vertical-align: middle;\n",
       "    }\n",
       "\n",
       "    .dataframe tbody tr th {\n",
       "        vertical-align: top;\n",
       "    }\n",
       "\n",
       "    .dataframe thead th {\n",
       "        text-align: right;\n",
       "    }\n",
       "</style>\n",
       "<table border=\"1\" class=\"dataframe\">\n",
       "  <thead>\n",
       "    <tr style=\"text-align: right;\">\n",
       "      <th></th>\n",
       "      <th>출입횟수</th>\n",
       "    </tr>\n",
       "  </thead>\n",
       "  <tbody>\n",
       "    <tr>\n",
       "      <th>월</th>\n",
       "      <td>1592175</td>\n",
       "    </tr>\n",
       "    <tr>\n",
       "      <th>화</th>\n",
       "      <td>1536446</td>\n",
       "    </tr>\n",
       "    <tr>\n",
       "      <th>수</th>\n",
       "      <td>1482073</td>\n",
       "    </tr>\n",
       "    <tr>\n",
       "      <th>목</th>\n",
       "      <td>1374593</td>\n",
       "    </tr>\n",
       "    <tr>\n",
       "      <th>금</th>\n",
       "      <td>1137231</td>\n",
       "    </tr>\n",
       "    <tr>\n",
       "      <th>토</th>\n",
       "      <td>462004</td>\n",
       "    </tr>\n",
       "    <tr>\n",
       "      <th>일</th>\n",
       "      <td>379729</td>\n",
       "    </tr>\n",
       "  </tbody>\n",
       "</table>\n",
       "</div>"
      ],
      "text/plain": [
       "      출입횟수\n",
       "월  1592175\n",
       "화  1536446\n",
       "수  1482073\n",
       "목  1374593\n",
       "금  1137231\n",
       "토   462004\n",
       "일   379729"
      ]
     },
     "execution_count": 8,
     "metadata": {},
     "output_type": "execute_result"
    }
   ],
   "source": [
    "# 출입횟수를 기준으로 내림차순 정렬\n",
    "week_entry_exit.sort_values(by=['출입횟수'], axis = 0, ascending=False)"
   ]
  }
 ],
 "metadata": {
  "kernelspec": {
   "display_name": "Python 3 (ipykernel)",
   "language": "python",
   "name": "python3"
  },
  "language_info": {
   "codemirror_mode": {
    "name": "ipython",
    "version": 3
   },
   "file_extension": ".py",
   "mimetype": "text/x-python",
   "name": "python",
   "nbconvert_exporter": "python",
   "pygments_lexer": "ipython3",
   "version": "3.9.7"
  }
 },
 "nbformat": 4,
 "nbformat_minor": 4
}
