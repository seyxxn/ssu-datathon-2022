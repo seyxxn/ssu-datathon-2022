{
 "cells": [
  {
   "cell_type": "code",
   "execution_count": 1,
   "metadata": {},
   "outputs": [],
   "source": [
    "import pandas as pd\n",
    "from matplotlib import font_manager, rc\n",
    "import matplotlib.pyplot as plt\n",
    "from datetime import datetime\n",
    "\n",
    "# 한글 깨짐\n",
    "font_path = 'C:\\WINDOWS\\FONTS\\MALGUN.ttf'\n",
    "font = font_manager.FontProperties(fname = font_path).get_name()\n",
    "rc('font', family = font)\n",
    "\n",
    "# 월별 전체 출입횟수 비교를 위한 DataFrame 생성\n",
    "month = ['1월','2월','3월','4월','5월','6월','7월', '8월','9월','10월','11월','12월']\n",
    "month_entry_exit = pd.DataFrame(0, index=month,columns=['월별 출입횟수'])"
   ]
  },
  {
   "cell_type": "code",
   "execution_count": 3,
   "metadata": {
    "scrolled": true
   },
   "outputs": [
    {
     "data": {
      "image/png": "[encoded data removed]",
      "text/plain": [
       "<Figure size 432x288 with 1 Axes>"
      ]
     },
     "metadata": {
      "needs_background": "light"
     },
     "output_type": "display_data"
    },
    {
     "name": "stdout",
     "output_type": "stream",
     "text": [
      "1월 전체 출입횟수 : 229069\n"
     ]
    }
   ],
   "source": [
    "# 출입일시 csv 파일 불러오기\n",
    "lib_entry_exit = pd.read_csv(\"./데이터_도서관출입.csv\", encoding = \"cp949\")\n",
    "\n",
    "# 출입일시만 가져온 새로운 데이터 프레임 생성\n",
    "only_entry_exit = lib_entry_exit.loc[:,'출입일시']\n",
    "# print(only_entry_exit)\n",
    "\n",
    "# 각 요일에 해당하는 출입일시만 추출\n",
    "lib_mon = []\n",
    "lib_tue = []\n",
    "lib_wed = []\n",
    "lib_thu = []\n",
    "lib_fri = []\n",
    "lib_sat = []\n",
    "lib_sun = []\n",
    "\n",
    "for i in only_entry_exit:\n",
    "    datetime_d = datetime.strptime(i, '%Y/%m/%d %H:%M:%S')\n",
    "    if datetime_d.month == 1:\n",
    "        if datetime_d.weekday() == 0:\n",
    "            lib_mon.append(i)\n",
    "        elif datetime_d.weekday() == 1:\n",
    "            lib_tue.append(i)\n",
    "        elif datetime_d.weekday() == 2:\n",
    "            lib_wed.append(i)\n",
    "        elif datetime_d.weekday() == 3:\n",
    "            lib_thu.append(i)\n",
    "        elif datetime_d.weekday() == 4:\n",
    "            lib_fri.append(i)\n",
    "        elif datetime_d.weekday() == 5:\n",
    "            lib_sat.append(i)\n",
    "        elif datetime_d.weekday() == 6:\n",
    "            lib_sun.append(i)\n",
    "    else :\n",
    "        pass\n",
    "\n",
    "# 요일별 출입횟수를 추출한 DataFrame\n",
    "day_of_week = ['월','화','수','목','금','토','일']\n",
    "week_entry_exit = pd.DataFrame(index=day_of_week,columns=['출입횟수'])\n",
    "\n",
    "week_entry_exit['출입횟수'][0] = len(lib_mon)\n",
    "week_entry_exit['출입횟수'][1] = len(lib_tue)\n",
    "week_entry_exit['출입횟수'][2] = len(lib_wed)\n",
    "week_entry_exit['출입횟수'][3] = len(lib_thu)\n",
    "week_entry_exit['출입횟수'][4] = len(lib_fri)\n",
    "week_entry_exit['출입횟수'][5] = len(lib_sat)\n",
    "week_entry_exit['출입횟수'][6] = len(lib_sun)\n",
    "\n",
    "# 시각화 - 막대그래프\n",
    "congestion_bar = week_entry_exit.plot.bar(width = 0.8, title = '1월 요일별 도서관 혼잡도')\n",
    "plt.show()\n",
    "\n",
    "# 1월 전체 출입횟수  \n",
    "total_week_entry_exit = len(lib_mon) + len(lib_thu) + len(lib_wed) + len(lib_thu) + len(lib_fri) + len(lib_sat) + len(lib_sun)\n",
    "print(\"1월 전체 출입횟수 :\" , total_week_entry_exit)\n",
    "\n",
    "month_entry_exit['월별 출입횟수'][0] = total_week_entry_exit"
   ]
  },
  {
   "cell_type": "code",
   "execution_count": 8,
   "metadata": {},
   "outputs": [
    {
     "data": {
      "image/png": "[encoded data removed]",
      "text/plain": [
       "<Figure size 432x288 with 1 Axes>"
      ]
     },
     "metadata": {
      "needs_background": "light"
     },
     "output_type": "display_data"
    },
    {
     "name": "stdout",
     "output_type": "stream",
     "text": [
      "2월 전체 출입횟수 : 157610\n"
     ]
    }
   ],
   "source": [
    "# 출입일시 csv 파일 불러오기\n",
    "lib_entry_exit = pd.read_csv(\"./데이터_도서관출입.csv\", encoding = \"cp949\")\n",
    "\n",
    "# 출입일시만 가져온 새로운 데이터 프레임 생성\n",
    "only_entry_exit = lib_entry_exit.loc[:,'출입일시']\n",
    "# print(only_entry_exit)\n",
    "\n",
    "# 각 요일에 해당하는 출입일시만 추출\n",
    "lib_mon = []\n",
    "lib_tue = []\n",
    "lib_wed = []\n",
    "lib_thu = []\n",
    "lib_fri = []\n",
    "lib_sat = []\n",
    "lib_sun = []\n",
    "\n",
    "for i in only_entry_exit:\n",
    "    datetime_d = datetime.strptime(i, '%Y/%m/%d %H:%M:%S')\n",
    "    if datetime_d.month == 2:\n",
    "        if datetime_d.weekday() == 0:\n",
    "            lib_mon.append(i)\n",
    "        elif datetime_d.weekday() == 1:\n",
    "            lib_tue.append(i)\n",
    "        elif datetime_d.weekday() == 2:\n",
    "            lib_wed.append(i)\n",
    "        elif datetime_d.weekday() == 3:\n",
    "            lib_thu.append(i)\n",
    "        elif datetime_d.weekday() == 4:\n",
    "            lib_fri.append(i)\n",
    "        elif datetime_d.weekday() == 5:\n",
    "            lib_sat.append(i)\n",
    "        elif datetime_d.weekday() == 6:\n",
    "            lib_sun.append(i)\n",
    "    else :\n",
    "        pass\n",
    "\n",
    "# 요일별 출입횟수를 추출한 DataFrame\n",
    "day_of_week = ['월','화','수','목','금','토','일']\n",
    "week_entry_exit = pd.DataFrame(index=day_of_week,columns=['출입횟수'])\n",
    "\n",
    "week_entry_exit['출입횟수'][0] = len(lib_mon)\n",
    "week_entry_exit['출입횟수'][1] = len(lib_tue)\n",
    "week_entry_exit['출입횟수'][2] = len(lib_wed)\n",
    "week_entry_exit['출입횟수'][3] = len(lib_thu)\n",
    "week_entry_exit['출입횟수'][4] = len(lib_fri)\n",
    "week_entry_exit['출입횟수'][5] = len(lib_sat)\n",
    "week_entry_exit['출입횟수'][6] = len(lib_sun)\n",
    "\n",
    "# 시각화 - 막대그래프\n",
    "congestion_bar = week_entry_exit.plot.bar(width = 0.8, title = '2월 요일별 도서관 혼잡도')\n",
    "plt.show()\n",
    "\n",
    "# 2월 전체 출입횟수  \n",
    "total_week_entry_exit = len(lib_mon) + len(lib_thu) + len(lib_wed) + len(lib_thu) + len(lib_fri) + len(lib_sat) + len(lib_sun)\n",
    "print(\"2월 전체 출입횟수 :\" , total_week_entry_exit)\n",
    "\n",
    "month_entry_exit['월별 출입횟수'][1] = total_week_entry_exit"
   ]
  },
  {
   "cell_type": "code",
   "execution_count": 12,
   "metadata": {},
   "outputs": [
    {
     "data": {
      "image/png": "[encoded data removed]",
      "text/plain": [
       "<Figure size 432x288 with 1 Axes>"
      ]
     },
     "metadata": {
      "needs_background": "light"
     },
     "output_type": "display_data"
    },
    {
     "name": "stdout",
     "output_type": "stream",
     "text": [
      "3월 전체 출입횟수 : 702290\n"
     ]
    }
   ],
   "source": [
    "# 출입일시 csv 파일 불러오기\n",
    "lib_entry_exit = pd.read_csv(\"./데이터_도서관출입.csv\", encoding = \"cp949\")\n",
    "\n",
    "# 출입일시만 가져온 새로운 데이터 프레임 생성\n",
    "only_entry_exit = lib_entry_exit.loc[:,'출입일시']\n",
    "# print(only_entry_exit)\n",
    "\n",
    "# 각 요일에 해당하는 출입일시만 추출\n",
    "lib_mon = []\n",
    "lib_tue = []\n",
    "lib_wed = []\n",
    "lib_thu = []\n",
    "lib_fri = []\n",
    "lib_sat = []\n",
    "lib_sun = []\n",
    "\n",
    "for i in only_entry_exit:\n",
    "    datetime_d = datetime.strptime(i, '%Y/%m/%d %H:%M:%S')\n",
    "    if datetime_d.month == 3:\n",
    "        if datetime_d.weekday() == 0:\n",
    "            lib_mon.append(i)\n",
    "        elif datetime_d.weekday() == 1:\n",
    "            lib_tue.append(i)\n",
    "        elif datetime_d.weekday() == 2:\n",
    "            lib_wed.append(i)\n",
    "        elif datetime_d.weekday() == 3:\n",
    "            lib_thu.append(i)\n",
    "        elif datetime_d.weekday() == 4:\n",
    "            lib_fri.append(i)\n",
    "        elif datetime_d.weekday() == 5:\n",
    "            lib_sat.append(i)\n",
    "        elif datetime_d.weekday() == 6:\n",
    "            lib_sun.append(i)\n",
    "    else :\n",
    "        pass\n",
    "\n",
    "# 요일별 출입횟수를 추출한 DataFrame\n",
    "day_of_week = ['월','화','수','목','금','토','일']\n",
    "week_entry_exit = pd.DataFrame(index=day_of_week,columns=['출입횟수'])\n",
    "\n",
    "week_entry_exit['출입횟수'][0] = len(lib_mon)\n",
    "week_entry_exit['출입횟수'][1] = len(lib_tue)\n",
    "week_entry_exit['출입횟수'][2] = len(lib_wed)\n",
    "week_entry_exit['출입횟수'][3] = len(lib_thu)\n",
    "week_entry_exit['출입횟수'][4] = len(lib_fri)\n",
    "week_entry_exit['출입횟수'][5] = len(lib_sat)\n",
    "week_entry_exit['출입횟수'][6] = len(lib_sun)\n",
    "\n",
    "# 시각화 - 막대그래프\n",
    "congestion_bar = week_entry_exit.plot.bar(width = 0.8, title = '3월 요일별 도서관 혼잡도')\n",
    "plt.show()\n",
    "\n",
    "# 3월 전체 출입횟수  \n",
    "total_week_entry_exit = len(lib_mon) + len(lib_thu) + len(lib_wed) + len(lib_thu) + len(lib_fri) + len(lib_sat) + len(lib_sun)\n",
    "print(\"3월 전체 출입횟수 :\" , total_week_entry_exit)\n",
    "\n",
    "month_entry_exit['월별 출입횟수'][2] = total_week_entry_exit"
   ]
  },
  {
   "cell_type": "code",
   "execution_count": 10,
   "metadata": {},
   "outputs": [
    {
     "data": {
      "image/png": "[encoded data removed]",
      "text/plain": [
       "<Figure size 432x288 with 1 Axes>"
      ]
     },
     "metadata": {
      "needs_background": "light"
     },
     "output_type": "display_data"
    },
    {
     "name": "stdout",
     "output_type": "stream",
     "text": [
      "4월 전체 출입횟수 : 1246077\n"
     ]
    }
   ],
   "source": [
    "# 출입일시 csv 파일 불러오기\n",
    "lib_entry_exit = pd.read_csv(\"./데이터_도서관출입.csv\", encoding = \"cp949\")\n",
    "\n",
    "# 출입일시만 가져온 새로운 데이터 프레임 생성\n",
    "only_entry_exit = lib_entry_exit.loc[:,'출입일시']\n",
    "# print(only_entry_exit)\n",
    "\n",
    "# 각 요일에 해당하는 출입일시만 추출\n",
    "lib_mon = []\n",
    "lib_tue = []\n",
    "lib_wed = []\n",
    "lib_thu = []\n",
    "lib_fri = []\n",
    "lib_sat = []\n",
    "lib_sun = []\n",
    "\n",
    "for i in only_entry_exit:\n",
    "    datetime_d = datetime.strptime(i, '%Y/%m/%d %H:%M:%S')\n",
    "    if datetime_d.month == 4:\n",
    "        if datetime_d.weekday() == 0:\n",
    "            lib_mon.append(i)\n",
    "        elif datetime_d.weekday() == 1:\n",
    "            lib_tue.append(i)\n",
    "        elif datetime_d.weekday() == 2:\n",
    "            lib_wed.append(i)\n",
    "        elif datetime_d.weekday() == 3:\n",
    "            lib_thu.append(i)\n",
    "        elif datetime_d.weekday() == 4:\n",
    "            lib_fri.append(i)\n",
    "        elif datetime_d.weekday() == 5:\n",
    "            lib_sat.append(i)\n",
    "        elif datetime_d.weekday() == 6:\n",
    "            lib_sun.append(i)\n",
    "    else :\n",
    "        pass\n",
    "\n",
    "# 요일별 출입횟수를 추출한 DataFrame\n",
    "day_of_week = ['월','화','수','목','금','토','일']\n",
    "week_entry_exit = pd.DataFrame(index=day_of_week,columns=['출입횟수'])\n",
    "\n",
    "week_entry_exit['출입횟수'][0] = len(lib_mon)\n",
    "week_entry_exit['출입횟수'][1] = len(lib_tue)\n",
    "week_entry_exit['출입횟수'][2] = len(lib_wed)\n",
    "week_entry_exit['출입횟수'][3] = len(lib_thu)\n",
    "week_entry_exit['출입횟수'][4] = len(lib_fri)\n",
    "week_entry_exit['출입횟수'][5] = len(lib_sat)\n",
    "week_entry_exit['출입횟수'][6] = len(lib_sun)\n",
    "\n",
    "# 시각화 - 막대그래프\n",
    "congestion_bar = week_entry_exit.plot.bar(width = 0.8, title = '4월 요일별 도서관 혼잡도')\n",
    "plt.show()\n",
    "\n",
    "# 4월 전체 출입횟수  \n",
    "total_week_entry_exit = len(lib_mon) + len(lib_thu) + len(lib_wed) + len(lib_thu) + len(lib_fri) + len(lib_sat) + len(lib_sun)\n",
    "print(\"4월 전체 출입횟수 :\" , total_week_entry_exit)\n",
    "\n",
    "month_entry_exit['월별 출입횟수'][3] = total_week_entry_exit"
   ]
  },
  {
   "cell_type": "code",
   "execution_count": 21,
   "metadata": {},
   "outputs": [
    {
     "data": {
      "image/png": "[encoded data removed]",
      "text/plain": [
       "<Figure size 432x288 with 1 Axes>"
      ]
     },
     "metadata": {
      "needs_background": "light"
     },
     "output_type": "display_data"
    },
    {
     "name": "stdout",
     "output_type": "stream",
     "text": [
      "5월 전체 출입횟수 : 728379\n"
     ]
    }
   ],
   "source": [
    "# 출입일시 csv 파일 불러오기\n",
    "lib_entry_exit = pd.read_csv(\"./데이터_도서관출입.csv\", encoding = \"cp949\")\n",
    "\n",
    "# 출입일시만 가져온 새로운 데이터 프레임 생성\n",
    "only_entry_exit = lib_entry_exit.loc[:,'출입일시']\n",
    "# print(only_entry_exit)\n",
    "\n",
    "# 각 요일에 해당하는 출입일시만 추출\n",
    "lib_mon = []\n",
    "lib_tue = []\n",
    "lib_wed = []\n",
    "lib_thu = []\n",
    "lib_fri = []\n",
    "lib_sat = []\n",
    "lib_sun = []\n",
    "\n",
    "for i in only_entry_exit:\n",
    "    datetime_d = datetime.strptime(i, '%Y/%m/%d %H:%M:%S')\n",
    "    if datetime_d.month == 5:\n",
    "        if datetime_d.weekday() == 0:\n",
    "            lib_mon.append(i)\n",
    "        elif datetime_d.weekday() == 1:\n",
    "            lib_tue.append(i)\n",
    "        elif datetime_d.weekday() == 2:\n",
    "            lib_wed.append(i)\n",
    "        elif datetime_d.weekday() == 3:\n",
    "            lib_thu.append(i)\n",
    "        elif datetime_d.weekday() == 4:\n",
    "            lib_fri.append(i)\n",
    "        elif datetime_d.weekday() == 5:\n",
    "            lib_sat.append(i)\n",
    "        elif datetime_d.weekday() == 6:\n",
    "            lib_sun.append(i)\n",
    "    else :\n",
    "        pass\n",
    "\n",
    "# 요일별 출입횟수를 추출한 DataFrame\n",
    "day_of_week = ['월','화','수','목','금','토','일']\n",
    "week_entry_exit = pd.DataFrame(index=day_of_week,columns=['출입횟수'])\n",
    "\n",
    "week_entry_exit['출입횟수'][0] = len(lib_mon)\n",
    "week_entry_exit['출입횟수'][1] = len(lib_tue)\n",
    "week_entry_exit['출입횟수'][2] = len(lib_wed)\n",
    "week_entry_exit['출입횟수'][3] = len(lib_thu)\n",
    "week_entry_exit['출입횟수'][4] = len(lib_fri)\n",
    "week_entry_exit['출입횟수'][5] = len(lib_sat)\n",
    "week_entry_exit['출입횟수'][6] = len(lib_sun)\n",
    "\n",
    "# 시각화 - 막대그래프\n",
    "congestion_bar = week_entry_exit.plot.bar(width = 0.8, title = '5월 요일별 도서관 혼잡도')\n",
    "plt.show()\n",
    "\n",
    "# 5월 전체 출입횟수  \n",
    "total_week_entry_exit = len(lib_mon) + len(lib_thu) + len(lib_wed) + len(lib_thu) + len(lib_fri) + len(lib_sat) + len(lib_sun)\n",
    "print(\"5월 전체 출입횟수 :\" , total_week_entry_exit)\n",
    "\n",
    "month_entry_exit['월별 출입횟수'][4] = total_week_entry_exit"
   ]
  },
  {
   "cell_type": "code",
   "execution_count": 11,
   "metadata": {},
   "outputs": [
    {
     "data": {
      "image/png": "[encoded data removed]",
      "text/plain": [
       "<Figure size 432x288 with 1 Axes>"
      ]
     },
     "metadata": {
      "needs_background": "light"
     },
     "output_type": "display_data"
    },
    {
     "name": "stdout",
     "output_type": "stream",
     "text": [
      "6월 전체 출입횟수 : 975847\n"
     ]
    }
   ],
   "source": [
    "# 출입일시 csv 파일 불러오기\n",
    "lib_entry_exit = pd.read_csv(\"./데이터_도서관출입.csv\", encoding = \"cp949\")\n",
    "\n",
    "# 출입일시만 가져온 새로운 데이터 프레임 생성\n",
    "only_entry_exit = lib_entry_exit.loc[:,'출입일시']\n",
    "# print(only_entry_exit)\n",
    "\n",
    "# 각 요일에 해당하는 출입일시만 추출\n",
    "lib_mon = []\n",
    "lib_tue = []\n",
    "lib_wed = []\n",
    "lib_thu = []\n",
    "lib_fri = []\n",
    "lib_sat = []\n",
    "lib_sun = []\n",
    "\n",
    "for i in only_entry_exit:\n",
    "    datetime_d = datetime.strptime(i, '%Y/%m/%d %H:%M:%S')\n",
    "    if datetime_d.month == 6:\n",
    "        if datetime_d.weekday() == 0:\n",
    "            lib_mon.append(i)\n",
    "        elif datetime_d.weekday() == 1:\n",
    "            lib_tue.append(i)\n",
    "        elif datetime_d.weekday() == 2:\n",
    "            lib_wed.append(i)\n",
    "        elif datetime_d.weekday() == 3:\n",
    "            lib_thu.append(i)\n",
    "        elif datetime_d.weekday() == 4:\n",
    "            lib_fri.append(i)\n",
    "        elif datetime_d.weekday() == 5:\n",
    "            lib_sat.append(i)\n",
    "        elif datetime_d.weekday() == 6:\n",
    "            lib_sun.append(i)\n",
    "    else :\n",
    "        pass\n",
    "\n",
    "# 요일별 출입횟수를 추출한 DataFrame\n",
    "day_of_week = ['월','화','수','목','금','토','일']\n",
    "week_entry_exit = pd.DataFrame(index=day_of_week,columns=['출입횟수'])\n",
    "\n",
    "week_entry_exit['출입횟수'][0] = len(lib_mon)\n",
    "week_entry_exit['출입횟수'][1] = len(lib_tue)\n",
    "week_entry_exit['출입횟수'][2] = len(lib_wed)\n",
    "week_entry_exit['출입횟수'][3] = len(lib_thu)\n",
    "week_entry_exit['출입횟수'][4] = len(lib_fri)\n",
    "week_entry_exit['출입횟수'][5] = len(lib_sat)\n",
    "week_entry_exit['출입횟수'][6] = len(lib_sun)\n",
    "\n",
    "# 시각화 - 막대그래프\n",
    "congestion_bar = week_entry_exit.plot.bar(width = 0.8, title = '6월 요일별 도서관 혼잡도')\n",
    "plt.show()\n",
    "\n",
    "# 6월 전체 출입횟수  \n",
    "total_week_entry_exit = len(lib_mon) + len(lib_thu) + len(lib_wed) + len(lib_thu) + len(lib_fri) + len(lib_sat) + len(lib_sun)\n",
    "print(\"6월 전체 출입횟수 :\" , total_week_entry_exit)\n",
    "\n",
    "month_entry_exit['월별 출입횟수'][5] = total_week_entry_exit"
   ]
  },
  {
   "cell_type": "code",
   "execution_count": 13,
   "metadata": {},
   "outputs": [
    {
     "data": {
      "image/png": "[encoded data removed]",
      "text/plain": [
       "<Figure size 432x288 with 1 Axes>"
      ]
     },
     "metadata": {
      "needs_background": "light"
     },
     "output_type": "display_data"
    },
    {
     "name": "stdout",
     "output_type": "stream",
     "text": [
      "7월 전체 출입횟수 : 243910\n"
     ]
    }
   ],
   "source": [
    "# 출입일시 csv 파일 불러오기\n",
    "lib_entry_exit = pd.read_csv(\"./데이터_도서관출입.csv\", encoding = \"cp949\")\n",
    "\n",
    "# 출입일시만 가져온 새로운 데이터 프레임 생성\n",
    "only_entry_exit = lib_entry_exit.loc[:,'출입일시']\n",
    "# print(only_entry_exit)\n",
    "\n",
    "# 각 요일에 해당하는 출입일시만 추출\n",
    "lib_mon = []\n",
    "lib_tue = []\n",
    "lib_wed = []\n",
    "lib_thu = []\n",
    "lib_fri = []\n",
    "lib_sat = []\n",
    "lib_sun = []\n",
    "\n",
    "for i in only_entry_exit:\n",
    "    datetime_d = datetime.strptime(i, '%Y/%m/%d %H:%M:%S')\n",
    "    if datetime_d.month == 7:\n",
    "        if datetime_d.weekday() == 0:\n",
    "            lib_mon.append(i)\n",
    "        elif datetime_d.weekday() == 1:\n",
    "            lib_tue.append(i)\n",
    "        elif datetime_d.weekday() == 2:\n",
    "            lib_wed.append(i)\n",
    "        elif datetime_d.weekday() == 3:\n",
    "            lib_thu.append(i)\n",
    "        elif datetime_d.weekday() == 4:\n",
    "            lib_fri.append(i)\n",
    "        elif datetime_d.weekday() == 5:\n",
    "            lib_sat.append(i)\n",
    "        elif datetime_d.weekday() == 6:\n",
    "            lib_sun.append(i)\n",
    "    else :\n",
    "        pass\n",
    "\n",
    "# 요일별 출입횟수를 추출한 DataFrame\n",
    "day_of_week = ['월','화','수','목','금','토','일']\n",
    "week_entry_exit = pd.DataFrame(index=day_of_week,columns=['출입횟수'])\n",
    "\n",
    "week_entry_exit['출입횟수'][0] = len(lib_mon)\n",
    "week_entry_exit['출입횟수'][1] = len(lib_tue)\n",
    "week_entry_exit['출입횟수'][2] = len(lib_wed)\n",
    "week_entry_exit['출입횟수'][3] = len(lib_thu)\n",
    "week_entry_exit['출입횟수'][4] = len(lib_fri)\n",
    "week_entry_exit['출입횟수'][5] = len(lib_sat)\n",
    "week_entry_exit['출입횟수'][6] = len(lib_sun)\n",
    "\n",
    "# 시각화 - 막대그래프\n",
    "congestion_bar = week_entry_exit.plot.bar(width = 0.8, title = '7월 요일별 도서관 혼잡도')\n",
    "plt.show()\n",
    "\n",
    "# 7월 전체 출입횟수  \n",
    "total_week_entry_exit = len(lib_mon) + len(lib_thu) + len(lib_wed) + len(lib_thu) + len(lib_fri) + len(lib_sat) + len(lib_sun)\n",
    "print(\"7월 전체 출입횟수 :\" , total_week_entry_exit)\n",
    "\n",
    "month_entry_exit['월별 출입횟수'][6] = total_week_entry_exit"
   ]
  },
  {
   "cell_type": "code",
   "execution_count": 14,
   "metadata": {},
   "outputs": [
    {
     "data": {
      "image/png": "[encoded data removed]",
      "text/plain": [
       "<Figure size 432x288 with 1 Axes>"
      ]
     },
     "metadata": {
      "needs_background": "light"
     },
     "output_type": "display_data"
    },
    {
     "name": "stdout",
     "output_type": "stream",
     "text": [
      "8월 전체 출입횟수 : 233498\n"
     ]
    }
   ],
   "source": [
    "# 출입일시 csv 파일 불러오기\n",
    "lib_entry_exit = pd.read_csv(\"./데이터_도서관출입.csv\", encoding = \"cp949\")\n",
    "\n",
    "# 출입일시만 가져온 새로운 데이터 프레임 생성\n",
    "only_entry_exit = lib_entry_exit.loc[:,'출입일시']\n",
    "# print(only_entry_exit)\n",
    "\n",
    "# 각 요일에 해당하는 출입일시만 추출\n",
    "lib_mon = []\n",
    "lib_tue = []\n",
    "lib_wed = []\n",
    "lib_thu = []\n",
    "lib_fri = []\n",
    "lib_sat = []\n",
    "lib_sun = []\n",
    "\n",
    "for i in only_entry_exit:\n",
    "    datetime_d = datetime.strptime(i, '%Y/%m/%d %H:%M:%S')\n",
    "    if datetime_d.month == 8:\n",
    "        if datetime_d.weekday() == 0:\n",
    "            lib_mon.append(i)\n",
    "        elif datetime_d.weekday() == 1:\n",
    "            lib_tue.append(i)\n",
    "        elif datetime_d.weekday() == 2:\n",
    "            lib_wed.append(i)\n",
    "        elif datetime_d.weekday() == 3:\n",
    "            lib_thu.append(i)\n",
    "        elif datetime_d.weekday() == 4:\n",
    "            lib_fri.append(i)\n",
    "        elif datetime_d.weekday() == 5:\n",
    "            lib_sat.append(i)\n",
    "        elif datetime_d.weekday() == 6:\n",
    "            lib_sun.append(i)\n",
    "    else :\n",
    "        pass\n",
    "\n",
    "# 요일별 출입횟수를 추출한 DataFrame\n",
    "day_of_week = ['월','화','수','목','금','토','일']\n",
    "week_entry_exit = pd.DataFrame(index=day_of_week,columns=['출입횟수'])\n",
    "\n",
    "week_entry_exit['출입횟수'][0] = len(lib_mon)\n",
    "week_entry_exit['출입횟수'][1] = len(lib_tue)\n",
    "week_entry_exit['출입횟수'][2] = len(lib_wed)\n",
    "week_entry_exit['출입횟수'][3] = len(lib_thu)\n",
    "week_entry_exit['출입횟수'][4] = len(lib_fri)\n",
    "week_entry_exit['출입횟수'][5] = len(lib_sat)\n",
    "week_entry_exit['출입횟수'][6] = len(lib_sun)\n",
    "\n",
    "# 시각화 - 막대그래프\n",
    "congestion_bar = week_entry_exit.plot.bar(width = 0.8, title = '8월 요일별 도서관 혼잡도')\n",
    "plt.show()\n",
    "\n",
    "# 8월 전체 출입횟수  \n",
    "total_week_entry_exit = len(lib_mon) + len(lib_thu) + len(lib_wed) + len(lib_thu) + len(lib_fri) + len(lib_sat) + len(lib_sun)\n",
    "print(\"8월 전체 출입횟수 :\" , total_week_entry_exit)\n",
    "\n",
    "month_entry_exit['월별 출입횟수'][7] = total_week_entry_exit"
   ]
  },
  {
   "cell_type": "code",
   "execution_count": 15,
   "metadata": {},
   "outputs": [
    {
     "data": {
      "image/png": "[encoded data removed]",
      "text/plain": [
       "<Figure size 432x288 with 1 Axes>"
      ]
     },
     "metadata": {
      "needs_background": "light"
     },
     "output_type": "display_data"
    },
    {
     "name": "stdout",
     "output_type": "stream",
     "text": [
      "9월 전체 출입횟수 : 627144\n"
     ]
    }
   ],
   "source": [
    "# 출입일시 csv 파일 불러오기\n",
    "lib_entry_exit = pd.read_csv(\"./데이터_도서관출입.csv\", encoding = \"cp949\")\n",
    "\n",
    "# 출입일시만 가져온 새로운 데이터 프레임 생성\n",
    "only_entry_exit = lib_entry_exit.loc[:,'출입일시']\n",
    "# print(only_entry_exit)\n",
    "\n",
    "# 각 요일에 해당하는 출입일시만 추출\n",
    "lib_mon = []\n",
    "lib_tue = []\n",
    "lib_wed = []\n",
    "lib_thu = []\n",
    "lib_fri = []\n",
    "lib_sat = []\n",
    "lib_sun = []\n",
    "\n",
    "for i in only_entry_exit:\n",
    "    datetime_d = datetime.strptime(i, '%Y/%m/%d %H:%M:%S')\n",
    "    if datetime_d.month == 9:\n",
    "        if datetime_d.weekday() == 0:\n",
    "            lib_mon.append(i)\n",
    "        elif datetime_d.weekday() == 1:\n",
    "            lib_tue.append(i)\n",
    "        elif datetime_d.weekday() == 2:\n",
    "            lib_wed.append(i)\n",
    "        elif datetime_d.weekday() == 3:\n",
    "            lib_thu.append(i)\n",
    "        elif datetime_d.weekday() == 4:\n",
    "            lib_fri.append(i)\n",
    "        elif datetime_d.weekday() == 5:\n",
    "            lib_sat.append(i)\n",
    "        elif datetime_d.weekday() == 6:\n",
    "            lib_sun.append(i)\n",
    "    else :\n",
    "        pass\n",
    "\n",
    "# 요일별 출입횟수를 추출한 DataFrame\n",
    "day_of_week = ['월','화','수','목','금','토','일']\n",
    "week_entry_exit = pd.DataFrame(index=day_of_week,columns=['출입횟수'])\n",
    "\n",
    "week_entry_exit['출입횟수'][0] = len(lib_mon)\n",
    "week_entry_exit['출입횟수'][1] = len(lib_tue)\n",
    "week_entry_exit['출입횟수'][2] = len(lib_wed)\n",
    "week_entry_exit['출입횟수'][3] = len(lib_thu)\n",
    "week_entry_exit['출입횟수'][4] = len(lib_fri)\n",
    "week_entry_exit['출입횟수'][5] = len(lib_sat)\n",
    "week_entry_exit['출입횟수'][6] = len(lib_sun)\n",
    "\n",
    "# 시각화 - 막대그래프\n",
    "congestion_bar = week_entry_exit.plot.bar(width = 0.8, title = '9월 요일별 도서관 혼잡도')\n",
    "plt.show()\n",
    "\n",
    "# 9월 전체 출입횟수  \n",
    "total_week_entry_exit = len(lib_mon) + len(lib_thu) + len(lib_wed) + len(lib_thu) + len(lib_fri) + len(lib_sat) + len(lib_sun)\n",
    "print(\"9월 전체 출입횟수 :\" , total_week_entry_exit)\n",
    "\n",
    "month_entry_exit['월별 출입횟수'][8] = total_week_entry_exit"
   ]
  },
  {
   "cell_type": "code",
   "execution_count": 16,
   "metadata": {},
   "outputs": [
    {
     "data": {
      "image/png": "[encoded data removed]",
      "text/plain": [
       "<Figure size 432x288 with 1 Axes>"
      ]
     },
     "metadata": {
      "needs_background": "light"
     },
     "output_type": "display_data"
    },
    {
     "name": "stdout",
     "output_type": "stream",
     "text": [
      "1월 전체 출입횟수 : 1118226\n"
     ]
    }
   ],
   "source": [
    "# 출입일시 csv 파일 불러오기\n",
    "lib_entry_exit = pd.read_csv(\"./데이터_도서관출입.csv\", encoding = \"cp949\")\n",
    "\n",
    "# 출입일시만 가져온 새로운 데이터 프레임 생성\n",
    "only_entry_exit = lib_entry_exit.loc[:,'출입일시']\n",
    "# print(only_entry_exit)\n",
    "\n",
    "# 각 요일에 해당하는 출입일시만 추출\n",
    "lib_mon = []\n",
    "lib_tue = []\n",
    "lib_wed = []\n",
    "lib_thu = []\n",
    "lib_fri = []\n",
    "lib_sat = []\n",
    "lib_sun = []\n",
    "\n",
    "for i in only_entry_exit:\n",
    "    datetime_d = datetime.strptime(i, '%Y/%m/%d %H:%M:%S')\n",
    "    if datetime_d.month == 10:\n",
    "        if datetime_d.weekday() == 0:\n",
    "            lib_mon.append(i)\n",
    "        elif datetime_d.weekday() == 1:\n",
    "            lib_tue.append(i)\n",
    "        elif datetime_d.weekday() == 2:\n",
    "            lib_wed.append(i)\n",
    "        elif datetime_d.weekday() == 3:\n",
    "            lib_thu.append(i)\n",
    "        elif datetime_d.weekday() == 4:\n",
    "            lib_fri.append(i)\n",
    "        elif datetime_d.weekday() == 5:\n",
    "            lib_sat.append(i)\n",
    "        elif datetime_d.weekday() == 6:\n",
    "            lib_sun.append(i)\n",
    "    else :\n",
    "        pass\n",
    "\n",
    "# 요일별 출입횟수를 추출한 DataFrame\n",
    "day_of_week = ['월','화','수','목','금','토','일']\n",
    "week_entry_exit = pd.DataFrame(index=day_of_week,columns=['출입횟수'])\n",
    "\n",
    "week_entry_exit['출입횟수'][0] = len(lib_mon)\n",
    "week_entry_exit['출입횟수'][1] = len(lib_tue)\n",
    "week_entry_exit['출입횟수'][2] = len(lib_wed)\n",
    "week_entry_exit['출입횟수'][3] = len(lib_thu)\n",
    "week_entry_exit['출입횟수'][4] = len(lib_fri)\n",
    "week_entry_exit['출입횟수'][5] = len(lib_sat)\n",
    "week_entry_exit['출입횟수'][6] = len(lib_sun)\n",
    "\n",
    "# 시각화 - 막대그래프\n",
    "congestion_bar = week_entry_exit.plot.bar(width = 0.8, title = '10월 요일별 도서관 혼잡도')\n",
    "plt.show()\n",
    "\n",
    "# 10월 전체 출입횟수  \n",
    "total_week_entry_exit = len(lib_mon) + len(lib_thu) + len(lib_wed) + len(lib_thu) + len(lib_fri) + len(lib_sat) + len(lib_sun)\n",
    "print(\"1월 전체 출입횟수 :\" , total_week_entry_exit)\n",
    "\n",
    "month_entry_exit['월별 출입횟수'][9] = total_week_entry_exit"
   ]
  },
  {
   "cell_type": "code",
   "execution_count": 17,
   "metadata": {},
   "outputs": [
    {
     "data": {
      "image/png": "[encoded data removed]",
      "text/plain": [
       "<Figure size 432x288 with 1 Axes>"
      ]
     },
     "metadata": {
      "needs_background": "light"
     },
     "output_type": "display_data"
    },
    {
     "name": "stdout",
     "output_type": "stream",
     "text": [
      "11월 전체 출입횟수 : 721367\n"
     ]
    }
   ],
   "source": [
    "# 출입일시 csv 파일 불러오기\n",
    "lib_entry_exit = pd.read_csv(\"./데이터_도서관출입.csv\", encoding = \"cp949\")\n",
    "\n",
    "# 출입일시만 가져온 새로운 데이터 프레임 생성\n",
    "only_entry_exit = lib_entry_exit.loc[:,'출입일시']\n",
    "# print(only_entry_exit)\n",
    "\n",
    "# 각 요일에 해당하는 출입일시만 추출\n",
    "lib_mon = []\n",
    "lib_tue = []\n",
    "lib_wed = []\n",
    "lib_thu = []\n",
    "lib_fri = []\n",
    "lib_sat = []\n",
    "lib_sun = []\n",
    "\n",
    "for i in only_entry_exit:\n",
    "    datetime_d = datetime.strptime(i, '%Y/%m/%d %H:%M:%S')\n",
    "    if datetime_d.month == 11:\n",
    "        if datetime_d.weekday() == 0:\n",
    "            lib_mon.append(i)\n",
    "        elif datetime_d.weekday() == 1:\n",
    "            lib_tue.append(i)\n",
    "        elif datetime_d.weekday() == 2:\n",
    "            lib_wed.append(i)\n",
    "        elif datetime_d.weekday() == 3:\n",
    "            lib_thu.append(i)\n",
    "        elif datetime_d.weekday() == 4:\n",
    "            lib_fri.append(i)\n",
    "        elif datetime_d.weekday() == 5:\n",
    "            lib_sat.append(i)\n",
    "        elif datetime_d.weekday() == 6:\n",
    "            lib_sun.append(i)\n",
    "    else :\n",
    "        pass\n",
    "\n",
    "# 요일별 출입횟수를 추출한 DataFrame\n",
    "day_of_week = ['월','화','수','목','금','토','일']\n",
    "week_entry_exit = pd.DataFrame(index=day_of_week,columns=['출입횟수'])\n",
    "\n",
    "week_entry_exit['출입횟수'][0] = len(lib_mon)\n",
    "week_entry_exit['출입횟수'][1] = len(lib_tue)\n",
    "week_entry_exit['출입횟수'][2] = len(lib_wed)\n",
    "week_entry_exit['출입횟수'][3] = len(lib_thu)\n",
    "week_entry_exit['출입횟수'][4] = len(lib_fri)\n",
    "week_entry_exit['출입횟수'][5] = len(lib_sat)\n",
    "week_entry_exit['출입횟수'][6] = len(lib_sun)\n",
    "\n",
    "# 시각화 - 막대그래프\n",
    "congestion_bar = week_entry_exit.plot.bar(width = 0.8, title = '11월 요일별 도서관 혼잡도')\n",
    "plt.show()\n",
    "\n",
    "# 11월 전체 출입횟수  \n",
    "total_week_entry_exit = len(lib_mon) + len(lib_thu) + len(lib_wed) + len(lib_thu) + len(lib_fri) + len(lib_sat) + len(lib_sun)\n",
    "print(\"11월 전체 출입횟수 :\" , total_week_entry_exit)\n",
    "\n",
    "month_entry_exit['월별 출입횟수'][10] = total_week_entry_exit"
   ]
  },
  {
   "cell_type": "code",
   "execution_count": 18,
   "metadata": {},
   "outputs": [
    {
     "data": {
      "image/png": "[encoded data removed]",
      "text/plain": [
       "<Figure size 432x288 with 1 Axes>"
      ]
     },
     "metadata": {
      "needs_background": "light"
     },
     "output_type": "display_data"
    },
    {
     "name": "stdout",
     "output_type": "stream",
     "text": [
      "12월 전체 출입횟수 : 818981\n"
     ]
    }
   ],
   "source": [
    "# 출입일시 csv 파일 불러오기\n",
    "lib_entry_exit = pd.read_csv(\"./데이터_도서관출입.csv\", encoding = \"cp949\")\n",
    "\n",
    "# 출입일시만 가져온 새로운 데이터 프레임 생성\n",
    "only_entry_exit = lib_entry_exit.loc[:,'출입일시']\n",
    "# print(only_entry_exit)\n",
    "\n",
    "# 각 요일에 해당하는 출입일시만 추출\n",
    "lib_mon = []\n",
    "lib_tue = []\n",
    "lib_wed = []\n",
    "lib_thu = []\n",
    "lib_fri = []\n",
    "lib_sat = []\n",
    "lib_sun = []\n",
    "\n",
    "for i in only_entry_exit:\n",
    "    datetime_d = datetime.strptime(i, '%Y/%m/%d %H:%M:%S')\n",
    "    if datetime_d.month == 12:\n",
    "        if datetime_d.weekday() == 0:\n",
    "            lib_mon.append(i)\n",
    "        elif datetime_d.weekday() == 1:\n",
    "            lib_tue.append(i)\n",
    "        elif datetime_d.weekday() == 2:\n",
    "            lib_wed.append(i)\n",
    "        elif datetime_d.weekday() == 3:\n",
    "            lib_thu.append(i)\n",
    "        elif datetime_d.weekday() == 4:\n",
    "            lib_fri.append(i)\n",
    "        elif datetime_d.weekday() == 5:\n",
    "            lib_sat.append(i)\n",
    "        elif datetime_d.weekday() == 6:\n",
    "            lib_sun.append(i)\n",
    "    else :\n",
    "        pass\n",
    "\n",
    "# 요일별 출입횟수를 추출한 DataFrame\n",
    "day_of_week = ['월','화','수','목','금','토','일']\n",
    "week_entry_exit = pd.DataFrame(index=day_of_week,columns=['출입횟수'])\n",
    "\n",
    "week_entry_exit['출입횟수'][0] = len(lib_mon)\n",
    "week_entry_exit['출입횟수'][1] = len(lib_tue)\n",
    "week_entry_exit['출입횟수'][2] = len(lib_wed)\n",
    "week_entry_exit['출입횟수'][3] = len(lib_thu)\n",
    "week_entry_exit['출입횟수'][4] = len(lib_fri)\n",
    "week_entry_exit['출입횟수'][5] = len(lib_sat)\n",
    "week_entry_exit['출입횟수'][6] = len(lib_sun)\n",
    "\n",
    "# 시각화 - 막대그래프\n",
    "congestion_bar = week_entry_exit.plot.bar(width = 0.8, title = '12월 요일별 도서관 혼잡도')\n",
    "plt.show()\n",
    "\n",
    "# 12월 전체 출입횟수  \n",
    "total_week_entry_exit = len(lib_mon) + len(lib_thu) + len(lib_wed) + len(lib_thu) + len(lib_fri) + len(lib_sat) + len(lib_sun)\n",
    "print(\"12월 전체 출입횟수 :\" , total_week_entry_exit)\n",
    "\n",
    "month_entry_exit['월별 출입횟수'][11] = total_week_entry_exit"
   ]
  },
  {
   "cell_type": "code",
   "execution_count": 22,
   "metadata": {},
   "outputs": [
    {
     "data": {
      "text/html": [
       "<div>\n",
       "<style scoped>\n",
       "    .dataframe tbody tr th:only-of-type {\n",
       "        vertical-align: middle;\n",
       "    }\n",
       "\n",
       "    .dataframe tbody tr th {\n",
       "        vertical-align: top;\n",
       "    }\n",
       "\n",
       "    .dataframe thead th {\n",
       "        text-align: right;\n",
       "    }\n",
       "</style>\n",
       "<table border=\"1\" class=\"dataframe\">\n",
       "  <thead>\n",
       "    <tr style=\"text-align: right;\">\n",
       "      <th></th>\n",
       "      <th>월별 출입횟수</th>\n",
       "    </tr>\n",
       "  </thead>\n",
       "  <tbody>\n",
       "    <tr>\n",
       "      <th>4월</th>\n",
       "      <td>1246077</td>\n",
       "    </tr>\n",
       "    <tr>\n",
       "      <th>10월</th>\n",
       "      <td>1118226</td>\n",
       "    </tr>\n",
       "    <tr>\n",
       "      <th>6월</th>\n",
       "      <td>975847</td>\n",
       "    </tr>\n",
       "    <tr>\n",
       "      <th>12월</th>\n",
       "      <td>818981</td>\n",
       "    </tr>\n",
       "    <tr>\n",
       "      <th>5월</th>\n",
       "      <td>728379</td>\n",
       "    </tr>\n",
       "    <tr>\n",
       "      <th>11월</th>\n",
       "      <td>721367</td>\n",
       "    </tr>\n",
       "    <tr>\n",
       "      <th>3월</th>\n",
       "      <td>702290</td>\n",
       "    </tr>\n",
       "    <tr>\n",
       "      <th>9월</th>\n",
       "      <td>627144</td>\n",
       "    </tr>\n",
       "    <tr>\n",
       "      <th>7월</th>\n",
       "      <td>243910</td>\n",
       "    </tr>\n",
       "    <tr>\n",
       "      <th>8월</th>\n",
       "      <td>233498</td>\n",
       "    </tr>\n",
       "    <tr>\n",
       "      <th>1월</th>\n",
       "      <td>229069</td>\n",
       "    </tr>\n",
       "    <tr>\n",
       "      <th>2월</th>\n",
       "      <td>157610</td>\n",
       "    </tr>\n",
       "  </tbody>\n",
       "</table>\n",
       "</div>"
      ],
      "text/plain": [
       "     월별 출입횟수\n",
       "4월   1246077\n",
       "10월  1118226\n",
       "6월    975847\n",
       "12월   818981\n",
       "5월    728379\n",
       "11월   721367\n",
       "3월    702290\n",
       "9월    627144\n",
       "7월    243910\n",
       "8월    233498\n",
       "1월    229069\n",
       "2월    157610"
      ]
     },
     "execution_count": 22,
     "metadata": {},
     "output_type": "execute_result"
    }
   ],
   "source": [
    "# 월별 출입횟수를 기준으로 내림차순 정렬\n",
    "month_entry_exit.sort_values(by=['월별 출입횟수'], axis = 0, ascending=False)"
   ]
  },
  {
   "cell_type": "code",
   "execution_count": 23,
   "metadata": {},
   "outputs": [
    {
     "data": {
      "image/png": "[encoded data removed]",
      "text/plain": [
       "<Figure size 432x288 with 1 Axes>"
      ]
     },
     "metadata": {
      "needs_background": "light"
     },
     "output_type": "display_data"
    }
   ],
   "source": [
    "# 월별 출입횟수 막대그래프\n",
    "month_congestion_bar = month_entry_exit.plot.bar(width = 0.8, title = '월별 도서관 혼잡도')\n",
    "plt.show()"
   ]
  }
 ],
 "metadata": {
  "kernelspec": {
   "display_name": "Python 3 (ipykernel)",
   "language": "python",
   "name": "python3"
  },
  "language_info": {
   "codemirror_mode": {
    "name": "ipython",
    "version": 3
   },
   "file_extension": ".py",
   "mimetype": "text/x-python",
   "name": "python",
   "nbconvert_exporter": "python",
   "pygments_lexer": "ipython3",
   "version": "3.9.7"
  }
 },
 "nbformat": 4,
 "nbformat_minor": 4
}
